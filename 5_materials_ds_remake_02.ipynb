{
  "nbformat": 4,
  "nbformat_minor": 0,
  "metadata": {
    "colab": {
      "name": "ds_remake_02.ipynb",
      "provenance": []
    },
    "kernelspec": {
      "name": "python3",
      "display_name": "Python 3"
    }
  },
  "cells": [
    {
      "cell_type": "code",
      "metadata": {
        "id": "EdSngl2ml74p",
        "colab_type": "code",
        "colab": {}
      },
      "source": [
        "import pandas as pd\n",
        "import altair as alt"
      ],
      "execution_count": 0,
      "outputs": []
    },
    {
      "cell_type": "code",
      "metadata": {
        "id": "NKvzlrMNmdBW",
        "colab_type": "code",
        "colab": {}
      },
      "source": [
        "data = alt.Data(\n",
        "    values = [{\"interval\":\"100-119\",\"share\":18.3,\"region_type\":\"rural\"},\n",
        "              {\"interval\":\"120-139\",\"share\":32.7,\"region_type\":\"rural\"},\n",
        "              {\"interval\":\"140-159\",\"share\":28.8,\"region_type\":\"rural\"},\n",
        "              {\"interval\":\"160-179\",\"share\":16.7,\"region_type\":\"rural\"},\n",
        "              {\"interval\":\"180-200\",\"share\":3.5,\"region_type\":\"rural\"},\n",
        "              {\"interval\":\"100-119\",\"share\":9.2,\"region_type\":\"urban\"},\n",
        "              {\"interval\":\"120-139\",\"share\":22.2,\"region_type\":\"urban\"},\n",
        "              {\"interval\":\"140-159\",\"share\":28.2,\"region_type\":\"urban\"},\n",
        "              {\"interval\":\"160-179\",\"share\":27.8,\"region_type\":\"urban\"},\n",
        "              {\"interval\":\"180-200\",\"share\":12.6,\"region_type\":\"urban\"}])"
      ],
      "execution_count": 0,
      "outputs": []
    },
    {
      "cell_type": "code",
      "metadata": {
        "id": "Yye9jtQVmwaw",
        "colab_type": "code",
        "outputId": "ba94d520-d367-46b0-ddf4-e9a2c7fb55a8",
        "colab": {
          "base_uri": "https://localhost:8080/",
          "height": 122
        }
      },
      "source": [
        "alt.Chart(data).mark_bar().encode(\n",
        "    x = alt.X('share:Q'),\n",
        "    y = alt.Y('region_type:N'),\n",
        "    color = alt.Color('interval:N')\n",
        ")"
      ],
      "execution_count": 0,
      "outputs": [
        {
          "output_type": "execute_result",
          "data": {
            "text/plain": [
              "alt.Chart(...)"
            ],
            "text/html": [
              "\n",
              "<div id=\"altair-viz-3\"></div>\n",
              "<script type=\"text/javascript\">\n",
              "  (function(spec, embedOpt){\n",
              "    const outputDiv = document.getElementById(\"altair-viz-3\");\n",
              "    const paths = {\n",
              "      \"vega\": \"https://cdn.jsdelivr.net/npm//vega@5?noext\",\n",
              "      \"vega-lib\": \"https://cdn.jsdelivr.net/npm//vega-lib?noext\",\n",
              "      \"vega-lite\": \"https://cdn.jsdelivr.net/npm//vega-lite@4.0.0?noext\",\n",
              "      \"vega-embed\": \"https://cdn.jsdelivr.net/npm//vega-embed@6?noext\",\n",
              "    };\n",
              "\n",
              "    function loadScript(lib) {\n",
              "      return new Promise(function(resolve, reject) {\n",
              "        var s = document.createElement('script');\n",
              "        s.src = paths[lib];\n",
              "        s.async = true;\n",
              "        s.onload = () => resolve(paths[lib]);\n",
              "        s.onerror = () => reject(`Error loading script: ${paths[lib]}`);\n",
              "        document.getElementsByTagName(\"head\")[0].appendChild(s);\n",
              "      });\n",
              "    }\n",
              "\n",
              "    function showError(err) {\n",
              "      outputDiv.innerHTML = `<div class=\"error\" style=\"color:red;\">${err}</div>`;\n",
              "      throw err;\n",
              "    }\n",
              "\n",
              "    function displayChart(vegaEmbed) {\n",
              "      vegaEmbed(outputDiv, spec, embedOpt)\n",
              "        .catch(err => showError(`Javascript Error: ${err.message}<br>This usually means there's a typo in your chart specification. See the javascript console for the full traceback.`));\n",
              "    }\n",
              "\n",
              "    if(typeof define === \"function\" && define.amd) {\n",
              "      requirejs.config({paths});\n",
              "      require([\"vega-embed\"], displayChart, err => showError(`Error loading script: ${err.message}`));\n",
              "    } else if (typeof vegaEmbed === \"function\") {\n",
              "      displayChart(vegaEmbed);\n",
              "    } else {\n",
              "      loadScript(\"vega\")\n",
              "        .then(() => loadScript(\"vega-lite\"))\n",
              "        .then(() => loadScript(\"vega-embed\"))\n",
              "        .catch(showError)\n",
              "        .then(() => displayChart(vegaEmbed));\n",
              "    }\n",
              "  })({\"config\": {\"view\": {\"continuousWidth\": 400, \"continuousHeight\": 300}}, \"data\": {\"values\": [{\"interval\": \"100-119\", \"share\": 18.3, \"region_type\": \"rural\"}, {\"interval\": \"120-139\", \"share\": 32.7, \"region_type\": \"rural\"}, {\"interval\": \"140-159\", \"share\": 28.8, \"region_type\": \"rural\"}, {\"interval\": \"160-179\", \"share\": 16.7, \"region_type\": \"rural\"}, {\"interval\": \"180-200\", \"share\": 3.5, \"region_type\": \"rural\"}, {\"interval\": \"100-119\", \"share\": 9.2, \"region_type\": \"urban\"}, {\"interval\": \"120-139\", \"share\": 22.2, \"region_type\": \"urban\"}, {\"interval\": \"140-159\", \"share\": 28.2, \"region_type\": \"urban\"}, {\"interval\": \"160-179\", \"share\": 27.8, \"region_type\": \"urban\"}, {\"interval\": \"180-200\", \"share\": 12.6, \"region_type\": \"urban\"}]}, \"mark\": \"bar\", \"encoding\": {\"color\": {\"type\": \"nominal\", \"field\": \"interval\"}, \"x\": {\"type\": \"quantitative\", \"field\": \"share\"}, \"y\": {\"type\": \"nominal\", \"field\": \"region_type\"}}, \"$schema\": \"https://vega.github.io/schema/vega-lite/v4.0.0.json\"}, {\"mode\": \"vega-lite\"});\n",
              "</script>"
            ]
          },
          "metadata": {
            "tags": []
          },
          "execution_count": 5
        }
      ]
    }
  ]
}